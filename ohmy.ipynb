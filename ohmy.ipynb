{
 "cells": [
  {
   "cell_type": "code",
   "execution_count": null,
   "id": "804a9376",
   "metadata": {},
   "outputs": [],
   "source": [
    "from IPython.display import display_html as display\n",
    "import gensim, pyLDAvis\n",
    "import lda_prepare as lda\n",
    "import pyLDAvis.gensim_models as gensim_models\n",
    "\n",
    "if __name__ == '__main__':\n",
    "\n",
    "    # Latent Dirichlet Allocation model training using Gensim Multicore (10 topics)\n",
    "    corpus, ida2word, num_topics = lda.get_corpus(), lda.get_ida2word(), 10\n",
    "    lda_model = gensim.models.LdaMulticore(corpus=corpus, id2word=ida2word, num_topics=num_topics)\n",
    "    \n",
    "    # Visualizations using pyLDAvis\n",
    "    pyLDAvis.enable_notebook(local=True)\n",
    "    LDAvis_prepared = gensim_models.prepare(lda_model, corpus, ida2word)\n",
    "    display(pyLDAvis.display(LDAvis_prepared))"
   ]
  },
  {
   "cell_type": "code",
   "execution_count": null,
   "id": "a6c518ec",
   "metadata": {},
   "outputs": [],
   "source": []
  }
 ],
 "metadata": {
  "kernelspec": {
   "display_name": "Python 3 (ipykernel)",
   "language": "python",
   "name": "python3"
  },
  "language_info": {
   "codemirror_mode": {
    "name": "ipython",
    "version": 3
   },
   "file_extension": ".py",
   "mimetype": "text/x-python",
   "name": "python",
   "nbconvert_exporter": "python",
   "pygments_lexer": "ipython3",
   "version": "3.8.10"
  }
 },
 "nbformat": 4,
 "nbformat_minor": 5
}
