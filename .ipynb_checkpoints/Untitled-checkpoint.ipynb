{
 "cells": [
  {
   "cell_type": "code",
   "execution_count": null,
   "id": "4bdb6dfc",
   "metadata": {},
   "outputs": [],
   "source": [
    "import gensim, pyLDAvis\n",
    "import lda_prepare as lda\n",
    "import pyLDAvis.gensim_models as gensim_models\n",
    "\n",
    "\n",
    "if __name__ == '__main__':\n",
    "\n",
    "    # Latent Dirichlet Allocation model training using Gensim Multicore (10 topics)\n",
    "    corpus, ida2word, num_topics = lda.get_corpus(), lda.get_ida2word(), 10\n",
    "    lda_model = gensim.models.LdaMulticore(corpus=corpus, id2word=ida2word, num_topics=num_topics)\n",
    "    \n",
    "    # Visualizations using pyLDAvis\n",
    "    LDAvis_prepared = gensim_models.prepare(lda_model, corpus, ida2word)\n",
    "    pyLDAvis.save_html(LDAvis_prepared, \"C:\\\\Users\\\\loren\\\\uci-ml_search\\\\visualization.html\")"
   ]
  }
 ],
 "metadata": {
  "kernelspec": {
   "display_name": "Python 3 (ipykernel)",
   "language": "python",
   "name": "python3"
  },
  "language_info": {
   "codemirror_mode": {
    "name": "ipython",
    "version": 3
   },
   "file_extension": ".py",
   "mimetype": "text/x-python",
   "name": "python",
   "nbconvert_exporter": "python",
   "pygments_lexer": "ipython3",
   "version": "3.9.12"
  }
 },
 "nbformat": 4,
 "nbformat_minor": 5
}
